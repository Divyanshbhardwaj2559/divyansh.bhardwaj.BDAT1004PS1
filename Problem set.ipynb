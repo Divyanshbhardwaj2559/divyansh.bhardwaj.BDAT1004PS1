{
 "cells": [
  {
   "cell_type": "code",
   "execution_count": 1,
   "id": "a0064c14",
   "metadata": {},
   "outputs": [
    {
     "name": "stdout",
     "output_type": "stream",
     "text": [
      "<class 'int'>\n",
      "<class 'str'>\n",
      "<class 'bool'>\n",
      "<class 'str'>\n",
      "10\n",
      "<class 'int'>\n",
      "<class 'str'>\n",
      "<class 'str'>\n",
      "1\n",
      "<class 'int'>\n",
      "<class 'set'>\n",
      "<class 'bool'>\n",
      "<class 'float'>\n"
     ]
    }
   ],
   "source": [
    "#Problem set (Question-1)\n",
    "\n",
    "A = 5\n",
    "C = \"5.0\"\n",
    "E = 5 > 1\n",
    "G = '5'\n",
    "I = 5 * 2\n",
    "K = '5' * 2\n",
    "M = '5' + '2'\n",
    "O = 5 % 2\n",
    "Q = {5, 2, 1}\n",
    "S = 5 == 3\n",
    "# Value of PI (approximately 3.14)\n",
    "V = 3.14\n",
    "\n",
    "print(type(A))\n",
    "print(type(C))\n",
    "print(type(E))\n",
    "print(type(G))\n",
    "print(I)\n",
    "print(type(I))\n",
    "print(type(K))\n",
    "print(type(M))\n",
    "print(O)\n",
    "print(type(O))\n",
    "print(type(Q))\n",
    "print(type(S))\n",
    "print(type(V))"
   ]
  },
  {
   "cell_type": "code",
   "execution_count": 2,
   "id": "7faec667",
   "metadata": {},
   "outputs": [
    {
     "name": "stdout",
     "output_type": "stream",
     "text": [
      "34\n"
     ]
    }
   ],
   "source": [
    "#Problem set (Question-2(a))\n",
    "\n",
    "#To check letters in a string we have length fuction which counts the letters or length of the string\n",
    "\n",
    "a = \"Supercalifragilisticexpialidocious\"\n",
    "print(len(a))"
   ]
  },
  {
   "cell_type": "code",
   "execution_count": 3,
   "id": "652a40b4",
   "metadata": {},
   "outputs": [
    {
     "name": "stdout",
     "output_type": "stream",
     "text": [
      " ice is present in the given string on the index of: 19\n"
     ]
    }
   ],
   "source": [
    "#Problem set (Question-2(b))\n",
    "\n",
    "Given_String = \"'Supercalifragilisticexpialidocious\"\n",
    "Substring_for_search = \"ice\"\n",
    "\n",
    "def Search_the_String(Substring_for_search):\n",
    "    Outcome = Given_String.find(Substring_for_search) \n",
    "    if(Outcome == -1):\n",
    "        print(\"ice is not found in the given string\")\n",
    "    else:\n",
    "        print(\" ice is present in the given string on the index of:\", Outcome)\n",
    "\n",
    "Search_the_String(Substring_for_search)"
   ]
  },
  {
   "cell_type": "code",
   "execution_count": 6,
   "id": "6eafae92",
   "metadata": {},
   "outputs": [
    {
     "name": "stdout",
     "output_type": "stream",
     "text": [
      "The longest word is in the given list is Supercalifragilisticexpialidocious\n"
     ]
    }
   ],
   "source": [
    "#Problem set (Question-2(c))\n",
    "\n",
    "List_of_words = [\"Supercalifragilisticexpialidocious\", \"Honorificabilitudinitatibus\", \"Bababadalgharaghtakamminarronnkonn\"]\n",
    "\n",
    "def Longest_word_in_list(TheWords):\n",
    "  TheLongestWord = ''\n",
    "  for i in TheWords:\n",
    "    if len(i) > len(TheLongestWord):\n",
    "      TheLongestWord = i\n",
    "  print('The longest word is in the given list is ' + TheLongestWord)\n",
    "    \n",
    "    \n",
    "Longest_word_in_list(List_of_words)"
   ]
  },
  {
   "cell_type": "code",
   "execution_count": 46,
   "id": "dc264bcf",
   "metadata": {},
   "outputs": [
    {
     "name": "stdout",
     "output_type": "stream",
     "text": [
      "['Bartok', 'Bellini', 'Berlioz', 'Bernstein', 'Borodin', 'Brian', 'Buxtehude']\n"
     ]
    }
   ],
   "source": [
    "#Problem set (Question-2(d))\n",
    "\n",
    "#Dictionary items are not in the key and value format so the first and last composer is hard to access\n",
    "\n",
    "dict = {'Berlioz', 'Borodin', 'Brian','Bartok', 'Bellini', 'Buxtehude', 'Bernstein'}\n",
    "print(sorted(dict))\n",
    "\n",
    "#index[0] Comes first which is 'Bartok'\n",
    "#index[-1] comes last which is 'Buxtehude'"
   ]
  },
  {
   "cell_type": "code",
   "execution_count": 10,
   "id": "d12510e8",
   "metadata": {
    "scrolled": true
   },
   "outputs": [
    {
     "name": "stdout",
     "output_type": "stream",
     "text": [
      "Enter length of first side:2\n",
      "Enter length of second side:2\n",
      "Enter length of third side:2\n",
      "Triangle area is: 1.7320508075688772\n"
     ]
    }
   ],
   "source": [
    "#Problem set (Question-3)\n",
    "\n",
    "#For this problem I took help from stackoverflow for the logical part\n",
    "#Reference link(https://stackoverflow.com/questions/28465388/calculating-area-and-perimeter-of-triangle-with-python)\n",
    "\n",
    "def TriangleArea(a, b, c):\n",
    "   Triangle_perimeter = a + b + c\n",
    "   s = Triangle_perimeter / 2\n",
    "   area = (s*(s-a)*(s-b)*(s-c))**0.5  \n",
    "   return area \n",
    "\n",
    "TriangleSide1 = float(input(\"Enter length of first side:\"))\n",
    "TriangleSide2 = float(input(\"Enter length of second side:\"))\n",
    "TriangleSide3 = float(input(\"Enter length of third side:\"))\n",
    "\n",
    "area = TriangleArea(TriangleSide1, TriangleSide2, TriangleSide3)\n",
    "\n",
    "print(\"Triangle area is: \" + str(area))"
   ]
  },
  {
   "cell_type": "code",
   "execution_count": 11,
   "id": "dcd48944",
   "metadata": {},
   "outputs": [
    {
     "name": "stdout",
     "output_type": "stream",
     "text": [
      "Enter Element :24\n",
      "Enter Element :25\n",
      "Enter Element :26\n",
      "Enter Element :27\n",
      "Enter Element :28\n",
      "[24, 25, 26, 27, 28]\n",
      "Even element list: [24, 26, 28]\n",
      "Odd Element List: [25, 27]\n"
     ]
    }
   ],
   "source": [
    "#Problem set (Question-4)\n",
    "l = []\n",
    "for i in range(1,6):\n",
    "    e = int(input(\"Enter Element :\"))\n",
    "    l.append(e)\n",
    "print(l)  \n",
    "even = []\n",
    "odd = []\n",
    "for j in l:\n",
    "    if(j%2==0):\n",
    "        even.append(j)\n",
    "    else:\n",
    "        odd.append(j)\n",
    "print(\"Even element list:\", even)\n",
    "print(\"Odd Element List:\",odd)"
   ]
  },
  {
   "cell_type": "code",
   "execution_count": 5,
   "id": "e690006e",
   "metadata": {},
   "outputs": [
    {
     "name": "stdout",
     "output_type": "stream",
     "text": [
      "False\n"
     ]
    }
   ],
   "source": [
    "#problem set (Question-5(a))\n",
    "\n",
    "def inside(x,y,x1,y1,x2,y2) :\n",
    "   if (x > x1 and x < x2 and y > y1 and y < y2) :\n",
    "      return True\n",
    "   else :\n",
    "      return False\n",
    "(x,y) = (1, 1)\n",
    "(x1,x2) = (0, 0)\n",
    "(y1,y2) = (2, 3)\n",
    "print(inside(x,y,x1,y1,x2,y2))\n",
    "\n",
    "\n"
   ]
  },
  {
   "cell_type": "code",
   "execution_count": 6,
   "id": "86898620",
   "metadata": {},
   "outputs": [
    {
     "name": "stdout",
     "output_type": "stream",
     "text": [
      "False\n"
     ]
    }
   ],
   "source": [
    "#problem set (Question-5(b))\n",
    "\n",
    "def rectangle(x,y):\n",
    "    if (x > y and y > x ):\n",
    "      return True\n",
    "    else:\n",
    "      return False\n",
    "(x,y) = (1, 1)\n",
    "(x1,x2) = (1.1, 0.7)\n",
    "(y1,y2) = (0.2, 0.5)\n",
    "\n",
    "print(rectangle(x,y))\n",
    "\n",
    "    \n"
   ]
  },
  {
   "cell_type": "code",
   "execution_count": 51,
   "id": "f1d4536a",
   "metadata": {},
   "outputs": [
    {
     "name": "stdout",
     "output_type": "stream",
     "text": [
      ">> Pig_Latin happy\n",
      "appyhay\n"
     ]
    }
   ],
   "source": [
    "#problem set (Question-6)\n",
    "\n",
    "#For this problem I took help from stackoverflow to solve this.\n",
    "#Reference link (https://stackoverflow.com/questions/51508664/python-pig-latin-converter-words-that-start-with-consonants)\n",
    "\n",
    "Pig_Latin_Word = input(\">> Pig_Latin \")\n",
    "The_List = Pig_Latin_Word.lower().split(\" \")\n",
    "vowels = ['a', 'e', 'i', 'o', 'u']\n",
    "Pig_Latin_Word = []\n",
    "eachWord = []\n",
    "for word in The_List:\n",
    "    if word[0] in 'aeiou': \n",
    "        Pig_Latin_Word.append(word + 'way')\n",
    "    if word[0] not in 'aeiou':\n",
    "        for letter in word:\n",
    "            if letter in 'aeiou':\n",
    "                Pig_Latin_Word.append(word[word.index(letter):] + word[:word.index(letter)] +'ay')\n",
    "\n",
    "\n",
    "print(\" \".join(Pig_Latin_Word))\n"
   ]
  },
  {
   "cell_type": "code",
   "execution_count": 53,
   "id": "aeaf4700",
   "metadata": {},
   "outputs": [
    {
     "ename": "SyntaxError",
     "evalue": "invalid character '‘' (U+2018) (2028738725.py, line 3)",
     "output_type": "error",
     "traceback": [
      "\u001b[1;36m  Input \u001b[1;32mIn [53]\u001b[1;36m\u001b[0m\n\u001b[1;33m    x = 6 + ‘a’\u001b[0m\n\u001b[1;37m            ^\u001b[0m\n\u001b[1;31mSyntaxError\u001b[0m\u001b[1;31m:\u001b[0m invalid character '‘' (U+2018)\n"
     ]
    }
   ],
   "source": [
    "#problem set (Question-9(a))\n",
    "\n",
    "print(\"6 + ‘a’ will give SyntaxError \") \n",
    "\n"
   ]
  },
  {
   "cell_type": "code",
   "execution_count": 59,
   "id": "51dea5cc",
   "metadata": {},
   "outputs": [
    {
     "name": "stdout",
     "output_type": "stream",
     "text": [
      "(list) will give TypeError\n"
     ]
    }
   ],
   "source": [
    "#problem set (Question-9(b))\n",
    "#list = {'l','ab','abc','abcd','alm','atm','axu','alou','awer','astu'}\n",
    "#print(list)\n",
    "#print(list[12])\n",
    "\n",
    "print(\"(list) will give TypeError\")\n"
   ]
  },
  {
   "cell_type": "code",
   "execution_count": 67,
   "id": "d168ac11",
   "metadata": {},
   "outputs": [
    {
     "name": "stdout",
     "output_type": "stream",
     "text": [
      "math.sqrt(-1.0) will give ValueError\n"
     ]
    }
   ],
   "source": [
    "#problem set (Question-9(c))\n",
    "\n",
    "#print(math.sqrt(-1.0))\n",
    "\n",
    "print(\"math.sqrt(-1.0) will give ValueError\")"
   ]
  },
  {
   "cell_type": "code",
   "execution_count": 3,
   "id": "136cbd80",
   "metadata": {},
   "outputs": [
    {
     "name": "stdout",
     "output_type": "stream",
     "text": [
      "print(x) undeclared variable will give NameError\n"
     ]
    }
   ],
   "source": [
    "#problem set (Question-9(d))\n",
    "\n",
    "#z = 5 + 3\n",
    "#print(x)\n",
    "\n",
    "print(\"print(x) undeclared variable will give NameError\")"
   ]
  },
  {
   "cell_type": "code",
   "execution_count": 8,
   "id": "b9c034dc",
   "metadata": {},
   "outputs": [
    {
     "name": "stdout",
     "output_type": "stream",
     "text": [
      "In_file = open(math.txt) will give FileNotFoundError\n"
     ]
    }
   ],
   "source": [
    "#problem set (Question-9(e))\n",
    "\n",
    "#In_file = open(\"math.txt\")\n",
    "\n",
    "print(\"In_file = open(math.txt) will give FileNotFoundError\")\n"
   ]
  },
  {
   "cell_type": "code",
   "execution_count": 1,
   "id": "85ece1e3",
   "metadata": {},
   "outputs": [
    {
     "name": "stdout",
     "output_type": "stream",
     "text": [
      "The number of patients in bloodtype are 15\n",
      "The number of patients in bloodtype are 13\n",
      "The number of patients in bloodtype are 15\n",
      "The number of patients in bloodtype are 1\n",
      "The number of patients in bloodtype are 0\n"
     ]
    }
   ],
   "source": [
    "#problem set (Question-7)\n",
    "\n",
    "infile = open('bloodtype.txt')\n",
    "content = infile.readlines()\n",
    "counter1 = 0\n",
    "counter2 = 0\n",
    "counter3 = 0\n",
    "counter4 = 0\n",
    "counter5 = 0\n",
    "\n",
    "for z in content:\n",
    "    blood =z.split(\" \")\n",
    "for x in blood:\n",
    "    if x=='A':\n",
    "        counter1=counter1+1\n",
    "    elif x=='AB':\n",
    "        counter2=counter2+1\n",
    "    elif x=='O':\n",
    "        counter3=counter3+1\n",
    "    elif x=='B':\n",
    "        counter4=counter4+1\n",
    "    elif x=='OO':\n",
    "        counter4=counter4+1\n",
    "        \n",
    "print(\"The number of patients in bloodtype are\", counter1)\n",
    "print(\"The number of patients in bloodtype are\", counter2)\n",
    "print(\"The number of patients in bloodtype are\", counter3)\n",
    "print(\"The number of patients in bloodtype are\", counter4)\n",
    "print(\"The number of patients in bloodtype are\", counter5)"
   ]
  },
  {
   "cell_type": "code",
   "execution_count": 11,
   "id": "339c7953",
   "metadata": {},
   "outputs": [
    {
     "name": "stdout",
     "output_type": "stream",
     "text": [
      "{'a': 1}\n",
      "{'a': 1, 'p': 1}\n",
      "{'a': 1, 'p': 2}\n",
      "{'a': 1, 'p': 2, 'l': 1}\n",
      "{'a': 1, 'p': 2, 'l': 1, 'e': 1}\n"
     ]
    }
   ],
   "source": [
    "word = 'apple'\n",
    "frequencies = dict()\n",
    "for c in word:\n",
    "    if c not in frequencies:\n",
    "        frequencies[c] = 1\n",
    "    else:\n",
    "        frequencies[c] = frequencies[c] + 1\n",
    "    print(frequencies)\n"
   ]
  },
  {
   "cell_type": "code",
   "execution_count": 14,
   "id": "35c04f6d",
   "metadata": {},
   "outputs": [
    {
     "name": "stdout",
     "output_type": "stream",
     "text": [
      "AUD\t1.0345157\tAustralian Dollar\n",
      "CHF\t1.0237414\tSwiss Franc\n",
      "CNY\t0.1550176\tChinese Yuan\n",
      "DKK\t0.1651442\tDanish Krone\n",
      "EUR\t1.2296544\tEuro\n",
      "GBP\t1.5550989\tBritish Pound\n",
      "HKD\t0.1270207\tHong Kong Dollar\n",
      "INR\t0.0177643\tIndian Rupee\n",
      "JPY\t0.01241401\tJapanese Yen\n",
      "MXN\t0.0751848\tMexican Peso\n",
      "MYR\t0.3145411\tMalaysian Ringgit\n",
      "NOK\t0.1677063\tNorwegian Krone\n",
      "NZD\t0.8003591\tNew Zealand Dollar\n",
      "PHP\t0.0233234\tPhilippine Peso\n",
      "SEK\t0.148269\tSwedish Krona\n",
      "SGD\t0.788871\tSingapore Dollar\n",
      "THB\t0.0313789\tThai Baht"
     ]
    }
   ],
   "source": [
    "infile = open('currencies.txt')\n",
    "content = infile.readlines()\n",
    "for char in content:\n",
    "    print(char, end='')"
   ]
  },
  {
   "cell_type": "code",
   "execution_count": null,
   "id": "45c67d43",
   "metadata": {},
   "outputs": [],
   "source": []
  }
 ],
 "metadata": {
  "kernelspec": {
   "display_name": "Python 3 (ipykernel)",
   "language": "python",
   "name": "python3"
  },
  "language_info": {
   "codemirror_mode": {
    "name": "ipython",
    "version": 3
   },
   "file_extension": ".py",
   "mimetype": "text/x-python",
   "name": "python",
   "nbconvert_exporter": "python",
   "pygments_lexer": "ipython3",
   "version": "3.9.12"
  }
 },
 "nbformat": 4,
 "nbformat_minor": 5
}
